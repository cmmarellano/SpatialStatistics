{
 "cells": [
  {
   "cell_type": "markdown",
   "metadata": {},
   "source": [
    "#### Spatial Statistics – Repetition Descriptive Statistics\n",
    "#### Assignment 1\n",
    "###### Prepared by: Carla Mae Arellano (https://github.com/cmmarellano)\n",
    "###### Date: 22.03.2022 <br><br>\n",
    "\n",
    "#### ---------------------------------------------------------------------------- <br>\n",
    "##  PART 1\n",
    "#### Generate a random, normally distributed sample of size n = 1000 (Mean = 50; Standard Deviation = 10). Calculate the range, 1st quartile, 3rd quartile and interquartile range of this sample. "
   ]
  },
  {
   "cell_type": "markdown",
   "metadata": {},
   "source": [
    "### Defining 'sample' with size n, mean=50, sdev=10 <br>\n",
    "\n",
    "#### The package _'bayestestR'_ was used to create a perfectly normal distribution."
   ]
  },
  {
   "cell_type": "code",
   "execution_count": 17,
   "metadata": {},
   "outputs": [
    {
     "name": "stderr",
     "output_type": "stream",
     "text": [
      "Warning message:\n",
      "\"'rnorm_perfect' is deprecated.\n",
      "Use 'distribution_normal' instead.\n",
      "See help(\"Deprecated\")\""
     ]
    },
    {
     "name": "stdout",
     "output_type": "stream",
     "text": [
      "   [1] 19.09768 21.21680 22.52000 23.47677 24.23894 24.87561 25.42428 25.90765\n",
      "   [9] 26.34052 26.73314 27.09286 27.42518 27.73429 28.02349 28.29539 28.55214\n",
      "  [17] 28.79548 29.02688 29.24756 29.45858 29.66083 29.85509 30.04202 30.22224\n",
      "  [25] 30.39625 30.56452 30.72746 30.88544 31.03878 31.18780 31.33275 31.47388\n",
      "  [33] 31.61141 31.74555 31.87649 32.00439 32.12941 32.25170 32.37139 32.48861\n",
      "  [41] 32.60347 32.71608 32.82654 32.93494 33.04137 33.14592 33.24866 33.34966\n",
      "  [49] 33.44898 33.54671 33.64288 33.73757 33.83082 33.92268 34.01321 34.10244\n",
      "  [57] 34.19043 34.27721 34.36282 34.44730 34.53069 34.61301 34.69431 34.77460\n",
      "  [65] 34.85393 34.93231 35.00978 35.08636 35.16207 35.23694 35.31100 35.38426\n",
      "  [73] 35.45674 35.52846 35.59945 35.66972 35.73929 35.80818 35.87640 35.94396\n",
      "  [81] 36.01090 36.07721 36.14291 36.20802 36.27256 36.33652 36.39993 36.46280\n",
      "  [89] 36.52514 36.58696 36.64827 36.70909 36.76941 36.82926 36.88864 36.94756\n",
      "  [97] 37.00603 37.06406 37.12166 37.17884 37.23559 37.29194 37.34789 37.40345\n",
      " [105] 37.45862 37.51341 37.56783 37.62188 37.67557 37.72891 37.78191 37.83456\n",
      " [113] 37.88688 37.93887 37.99053 38.04188 38.09291 38.14363 38.19405 38.24418\n",
      " [121] 38.29400 38.34354 38.39280 38.44177 38.49047 38.53890 38.58706 38.63496\n",
      " [129] 38.68260 38.72998 38.77711 38.82400 38.87064 38.91703 38.96319 39.00912\n",
      " [137] 39.05482 39.10029 39.14553 39.19055 39.23536 39.27995 39.32433 39.36850\n",
      " [145] 39.41246 39.45622 39.49977 39.54313 39.58630 39.62927 39.67205 39.71464\n",
      " [153] 39.75704 39.79927 39.84131 39.88317 39.92486 39.96637 40.00771 40.04888\n",
      " [161] 40.08988 40.13071 40.17139 40.21190 40.25225 40.29244 40.33247 40.37235\n",
      " [169] 40.41208 40.45166 40.49109 40.53037 40.56951 40.60850 40.64735 40.68606\n",
      " [177] 40.72463 40.76306 40.80136 40.83952 40.87755 40.91545 40.95321 40.99085\n",
      " [185] 41.02836 41.06575 41.10301 41.14015 41.17717 41.21406 41.25084 41.28750\n",
      " [193] 41.32404 41.36047 41.39678 41.43298 41.46907 41.50504 41.54091 41.57667\n",
      " [201] 41.61232 41.64787 41.68331 41.71864 41.75387 41.78900 41.82403 41.85896\n",
      " [209] 41.89379 41.92853 41.96316 41.99770 42.03214 42.06649 42.10075 42.13491\n",
      " [217] 42.16899 42.20297 42.23686 42.27066 42.30438 42.33800 42.37155 42.40500\n",
      " [225] 42.43837 42.47166 42.50486 42.53798 42.57102 42.60398 42.63686 42.66966\n",
      " [233] 42.70238 42.73502 42.76759 42.80007 42.83249 42.86482 42.89709 42.92928\n",
      " [241] 42.96139 42.99344 43.02541 43.05731 43.08914 43.12090 43.15259 43.18421\n",
      " [249] 43.21577 43.24726 43.27868 43.31003 43.34132 43.37254 43.40370 43.43480\n",
      " [257] 43.46583 43.49680 43.52771 43.55855 43.58934 43.62006 43.65072 43.68133\n",
      " [265] 43.71187 43.74236 43.77278 43.80315 43.83347 43.86372 43.89393 43.92407\n",
      " [273] 43.95416 43.98420 44.01418 44.04410 44.07398 44.10380 44.13357 44.16329\n",
      " [281] 44.19295 44.22257 44.25213 44.28165 44.31111 44.34052 44.36989 44.39921\n",
      " [289] 44.42848 44.45770 44.48687 44.51600 44.54508 44.57412 44.60311 44.63205\n",
      " [297] 44.66095 44.68981 44.71862 44.74738 44.77611 44.80479 44.83343 44.86202\n",
      " [305] 44.89058 44.91909 44.94756 44.97599 45.00438 45.03273 45.06104 45.08931\n",
      " [313] 45.11754 45.14573 45.17388 45.20200 45.23007 45.25811 45.28612 45.31408\n",
      " [321] 45.34201 45.36990 45.39776 45.42558 45.45337 45.48112 45.50883 45.53651\n",
      " [329] 45.56416 45.59177 45.61935 45.64690 45.67441 45.70189 45.72934 45.75676\n",
      " [337] 45.78414 45.81149 45.83882 45.86611 45.89337 45.92059 45.94779 45.97496\n",
      " [345] 46.00210 46.02921 46.05629 46.08334 46.11037 46.13736 46.16433 46.19127\n",
      " [353] 46.21818 46.24506 46.27192 46.29875 46.32555 46.35233 46.37908 46.40580\n",
      " [361] 46.43250 46.45918 46.48583 46.51245 46.53905 46.56562 46.59217 46.61870\n",
      " [369] 46.64520 46.67168 46.69814 46.72457 46.75098 46.77737 46.80373 46.83007\n",
      " [377] 46.85639 46.88269 46.90897 46.93523 46.96146 46.98768 47.01387 47.04004\n",
      " [385] 47.06619 47.09233 47.11844 47.14453 47.17061 47.19666 47.22269 47.24871\n",
      " [393] 47.27471 47.30069 47.32665 47.35259 47.37852 47.40443 47.43032 47.45619\n",
      " [401] 47.48205 47.50789 47.53371 47.55951 47.58530 47.61108 47.63684 47.66258\n",
      " [409] 47.68831 47.71402 47.73971 47.76540 47.79106 47.81672 47.84235 47.86798\n",
      " [417] 47.89359 47.91918 47.94477 47.97033 47.99589 48.02143 48.04696 48.07248\n",
      " [425] 48.09798 48.12348 48.14896 48.17442 48.19988 48.22532 48.25076 48.27618\n",
      " [433] 48.30159 48.32699 48.35238 48.37776 48.40312 48.42848 48.45383 48.47917\n",
      " [441] 48.50449 48.52981 48.55512 48.58042 48.60571 48.63099 48.65626 48.68153\n",
      " [449] 48.70678 48.73203 48.75727 48.78250 48.80772 48.83294 48.85815 48.88335\n",
      " [457] 48.90855 48.93373 48.95891 48.98409 49.00925 49.03442 49.05957 49.08472\n",
      " [465] 49.10986 49.13500 49.16013 49.18526 49.21038 49.23550 49.26061 49.28572\n",
      " [473] 49.31082 49.33592 49.36102 49.38611 49.41119 49.43627 49.46135 49.48643\n",
      " [481] 49.51150 49.53657 49.56164 49.58670 49.61176 49.63682 49.66188 49.68693\n",
      " [489] 49.71199 49.73704 49.76209 49.78713 49.81218 49.83723 49.86227 49.88731\n",
      " [497] 49.91235 49.93740 49.96244 49.98748 50.01252 50.03756 50.06260 50.08765\n",
      " [505] 50.11269 50.13773 50.16277 50.18782 50.21287 50.23791 50.26296 50.28801\n",
      " [513] 50.31307 50.33812 50.36318 50.38824 50.41330 50.43836 50.46343 50.48850\n",
      " [521] 50.51357 50.53865 50.56373 50.58881 50.61389 50.63898 50.66408 50.68918\n",
      " [529] 50.71428 50.73939 50.76450 50.78962 50.81474 50.83987 50.86500 50.89014\n",
      " [537] 50.91528 50.94043 50.96558 50.99075 51.01591 51.04109 51.06627 51.09145\n",
      " [545] 51.11665 51.14185 51.16706 51.19228 51.21750 51.24273 51.26797 51.29322\n",
      " [553] 51.31847 51.34374 51.36901 51.39429 51.41958 51.44488 51.47019 51.49551\n",
      " [561] 51.52083 51.54617 51.57152 51.59688 51.62224 51.64762 51.67301 51.69841\n",
      " [569] 51.72382 51.74924 51.77468 51.80012 51.82558 51.85104 51.87652 51.90202\n",
      " [577] 51.92752 51.95304 51.97857 52.00411 52.02967 52.05523 52.08082 52.10641\n",
      " [585] 52.13202 52.15765 52.18328 52.20894 52.23460 52.26029 52.28598 52.31169\n",
      " [593] 52.33742 52.36316 52.38892 52.41470 52.44049 52.46629 52.49211 52.51795\n",
      " [601] 52.54381 52.56968 52.59557 52.62148 52.64741 52.67335 52.69931 52.72529\n",
      " [609] 52.75129 52.77731 52.80334 52.82939 52.85547 52.88156 52.90767 52.93381\n",
      " [617] 52.95996 52.98613 53.01232 53.03854 53.06477 53.09103 53.11731 53.14361\n",
      " [625] 53.16993 53.19627 53.22263 53.24902 53.27543 53.30186 53.32832 53.35480\n",
      " [633] 53.38130 53.40783 53.43438 53.46095 53.48755 53.51417 53.54082 53.56750\n",
      " [641] 53.59420 53.62092 53.64767 53.67445 53.70125 53.72808 53.75494 53.78182\n",
      " [649] 53.80873 53.83567 53.86264 53.88963 53.91666 53.94371 53.97079 53.99790\n",
      " [657] 54.02504 54.05221 54.07941 54.10663 54.13389 54.16118 54.18851 54.21586\n",
      " [665] 54.24324 54.27066 54.29811 54.32559 54.35310 54.38065 54.40823 54.43584\n",
      " [673] 54.46349 54.49117 54.51888 54.54663 54.57442 54.60224 54.63010 54.65799\n",
      " [681] 54.68592 54.71388 54.74189 54.76993 54.79800 54.82612 54.85427 54.88246\n",
      " [689] 54.91069 54.93896 54.96727 54.99562 55.02401 55.05244 55.08091 55.10942\n",
      " [697] 55.13798 55.16657 55.19521 55.22389 55.25262 55.28138 55.31019 55.33905\n",
      " [705] 55.36795 55.39689 55.42588 55.45492 55.48400 55.51313 55.54230 55.57152\n",
      " [713] 55.60079 55.63011 55.65948 55.68889 55.71835 55.74787 55.77743 55.80705\n",
      " [721] 55.83671 55.86643 55.89620 55.92602 55.95590 55.98582 56.01580 56.04584\n",
      " [729] 56.07593 56.10607 56.13628 56.16653 56.19685 56.22722 56.25764 56.28813\n",
      " [737] 56.31867 56.34928 56.37994 56.41066 56.44145 56.47229 56.50320 56.53417\n",
      " [745] 56.56520 56.59630 56.62746 56.65868 56.68997 56.72132 56.75274 56.78423\n",
      " [753] 56.81579 56.84741 56.87910 56.91086 56.94269 56.97459 57.00656 57.03861\n",
      " [761] 57.07072 57.10291 57.13518 57.16751 57.19993 57.23241 57.26498 57.29762\n",
      " [769] 57.33034 57.36314 57.39602 57.42898 57.46202 57.49514 57.52834 57.56163\n",
      " [777] 57.59500 57.62845 57.66200 57.69562 57.72934 57.76314 57.79703 57.83101\n",
      " [785] 57.86509 57.89925 57.93351 57.96786 58.00230 58.03684 58.07147 58.10621\n",
      " [793] 58.14104 58.17597 58.21100 58.24613 58.28136 58.31669 58.35213 58.38768\n",
      " [801] 58.42333 58.45909 58.49496 58.53093 58.56702 58.60322 58.63953 58.67596\n",
      " [809] 58.71250 58.74916 58.78594 58.82283 58.85985 58.89699 58.93425 58.97164\n",
      " [817] 59.00915 59.04679 59.08455 59.12245 59.16048 59.19864 59.23694 59.27537\n",
      " [825] 59.31394 59.35265 59.39150 59.43049 59.46963 59.50891 59.54834 59.58792\n",
      " [833] 59.62765 59.66753 59.70756 59.74775 59.78810 59.82861 59.86929 59.91012\n",
      " [841] 59.95112 59.99229 60.03363 60.07514 60.11683 60.15869 60.20073 60.24296\n",
      " [849] 60.28536 60.32795 60.37073 60.41370 60.45687 60.50023 60.54378 60.58754\n",
      " [857] 60.63150 60.67567 60.72005 60.76464 60.80945 60.85447 60.89971 60.94518\n",
      " [865] 60.99088 61.03681 61.08297 61.12936 61.17600 61.22289 61.27002 61.31740\n",
      " [873] 61.36504 61.41294 61.46110 61.50953 61.55823 61.60720 61.65646 61.70600\n",
      " [881] 61.75582 61.80595 61.85637 61.90709 61.95812 62.00947 62.06113 62.11312\n",
      " [889] 62.16544 62.21809 62.27109 62.32443 62.37812 62.43217 62.48659 62.54138\n",
      " [897] 62.59655 62.65211 62.70806 62.76441 62.82116 62.87834 62.93594 62.99397\n",
      " [905] 63.05244 63.11136 63.17074 63.23059 63.29091 63.35173 63.41304 63.47486\n",
      " [913] 63.53720 63.60007 63.66348 63.72744 63.79198 63.85709 63.92279 63.98910\n",
      " [921] 64.05604 64.12360 64.19182 64.26071 64.33028 64.40055 64.47154 64.54326\n",
      " [929] 64.61574 64.68900 64.76306 64.83793 64.91364 64.99022 65.06769 65.14607\n",
      " [937] 65.22540 65.30569 65.38699 65.46931 65.55270 65.63718 65.72279 65.80957\n",
      " [945] 65.89756 65.98679 66.07732 66.16918 66.26243 66.35712 66.45329 66.55102\n",
      " [953] 66.65034 66.75134 66.85408 66.95863 67.06506 67.17346 67.28392 67.39653\n",
      " [961] 67.51139 67.62861 67.74830 67.87059 67.99561 68.12351 68.25445 68.38859\n",
      " [969] 68.52612 68.66725 68.81220 68.96122 69.11456 69.27254 69.43548 69.60375\n",
      " [977] 69.77776 69.95798 70.14491 70.33917 70.54142 70.75244 70.97312 71.20452\n",
      " [985] 71.44786 71.70461 71.97651 72.26571 72.57482 72.90714 73.26686 73.65948\n",
      " [993] 74.09235 74.57572 75.12439 75.76106 76.52323 77.48000 78.78320 80.90232\n"
     ]
    }
   ],
   "source": [
    "#install.packages(\"bayestestR\")\n",
    "library(bayestestR)\n",
    "\n",
    "sample = rnorm_perfect(n=1000, mean=50, sd=10) \n",
    "print(sample)"
   ]
  },
  {
   "cell_type": "markdown",
   "metadata": {},
   "source": [
    "#### Visualizing the sample"
   ]
  },
  {
   "cell_type": "code",
   "execution_count": 18,
   "metadata": {
    "scrolled": true
   },
   "outputs": [
    {
     "data": {
      "image/png": "[encoded data removed]",
      "text/plain": [
       "Plot with title \"density.default(x = sample)\""
      ]
     },
     "metadata": {},
     "output_type": "display_data"
    }
   ],
   "source": [
    "plot(density(sample))"
   ]
  },
  {
   "cell_type": "markdown",
   "metadata": {},
   "source": [
    "### Range <br>\n",
    "#### The range of this random sample is defined by its min and max values."
   ]
  },
  {
   "cell_type": "code",
   "execution_count": 20,
   "metadata": {},
   "outputs": [
    {
     "data": {
      "text/html": [
       "<span style=white-space:pre-wrap>'The range of the dataset is  19.0976769383219  to  80.9023230616781 '</span>"
      ],
      "text/latex": [
       "'The range of the dataset is  19.0976769383219  to  80.9023230616781 '"
      ],
      "text/markdown": [
       "<span style=white-space:pre-wrap>'The range of the dataset is  19.0976769383219  to  80.9023230616781 '</span>"
      ],
      "text/plain": [
       "[1] \"The range of the dataset is  19.0976769383219  to  80.9023230616781 \""
      ]
     },
     "metadata": {},
     "output_type": "display_data"
    }
   ],
   "source": [
    "sprintf('The range of the dataset is  %s  to  %s ',min(sample),max(sample))"
   ]
  },
  {
   "cell_type": "markdown",
   "metadata": {},
   "source": [
    "### Quartile Values <br>\n",
    "\n",
    "#### The distribution is cut into four (4) equal parts. The _quantile function_ summarizes the quantile values of the dataset.\n",
    "#### The 1st Quartile (Q1), also called lower quartile, pertains to the values within 25% of an increasingly ordered dataset.  The 3rd Quartile (Q3) or upper quartile, pertains to the values within 75% of an increasingly ordered dataset. The 2nd Quartile (Q2), on the other hand, pertains to the _median_. \n",
    "#### The Interquartile range is the difference between the upper and lower quartile values."
   ]
  },
  {
   "cell_type": "code",
   "execution_count": 30,
   "metadata": {},
   "outputs": [
    {
     "name": "stdout",
     "output_type": "stream",
     "text": [
      "      0%      25%      50%      75%     100% \n",
      "19.09768 43.27082 50.00000 56.72918 80.90232 \n"
     ]
    }
   ],
   "source": [
    "quan <- quantile(sample)\n",
    "print(quan)"
   ]
  },
  {
   "cell_type": "code",
   "execution_count": 28,
   "metadata": {},
   "outputs": [
    {
     "data": {
      "text/html": [
       "'1st Quartile: 43.270822255888'"
      ],
      "text/latex": [
       "'1st Quartile: 43.270822255888'"
      ],
      "text/markdown": [
       "'1st Quartile: 43.270822255888'"
      ],
      "text/plain": [
       "[1] \"1st Quartile: 43.270822255888\""
      ]
     },
     "metadata": {},
     "output_type": "display_data"
    }
   ],
   "source": [
    "sprintf('1st Quartile (Q1): %s',(quan[1]))"
   ]
  },
  {
   "cell_type": "code",
   "execution_count": 29,
   "metadata": {},
   "outputs": [
    {
     "data": {
      "text/html": [
       "'2nd Quartile: 50'"
      ],
      "text/latex": [
       "'2nd Quartile: 50'"
      ],
      "text/markdown": [
       "'2nd Quartile: 50'"
      ],
      "text/plain": [
       "[1] \"2nd Quartile: 50\""
      ]
     },
     "metadata": {},
     "output_type": "display_data"
    }
   ],
   "source": [
    "sprintf('2nd Quartile (Q2): %s',(quan[2]))"
   ]
  },
  {
   "cell_type": "code",
   "execution_count": 26,
   "metadata": {},
   "outputs": [
    {
     "data": {
      "text/html": [
       "'Interquartile range: 13.458355488224'"
      ],
      "text/latex": [
       "'Interquartile range: 13.458355488224'"
      ],
      "text/markdown": [
       "'Interquartile range: 13.458355488224'"
      ],
      "text/plain": [
       "[1] \"Interquartile range: 13.458355488224\""
      ]
     },
     "metadata": {},
     "output_type": "display_data"
    }
   ],
   "source": [
    "sprintf('Interquartile range: %s',(interquar <- quan[3]-quan[1]))"
   ]
  },
  {
   "cell_type": "markdown",
   "metadata": {},
   "source": [
    "#### ---------------------------------------------------------------------------- <br>\n",
    "##  PART 2\n",
    "#### Using the following data, find the mean, median and range: Data values: 29, 35, 17, 30, 231, 6, 27, 35, 23, 29, 13"
   ]
  },
  {
   "cell_type": "markdown",
   "metadata": {},
   "source": [
    "#### Data values"
   ]
  },
  {
   "cell_type": "code",
   "execution_count": 31,
   "metadata": {},
   "outputs": [
    {
     "name": "stdout",
     "output_type": "stream",
     "text": [
      " [1]  29  35  17  30 231   6  27  35  23  29  13\n"
     ]
    }
   ],
   "source": [
    "data2 <- c(29, 35, 17, 30, 231, 6, 27, 35, 23, 29, 13)\n",
    "print(data2)"
   ]
  },
  {
   "cell_type": "markdown",
   "metadata": {},
   "source": [
    "### Mean"
   ]
  },
  {
   "cell_type": "code",
   "execution_count": 33,
   "metadata": {},
   "outputs": [
    {
     "data": {
      "text/html": [
       "'Mean: 43.1818181818182'"
      ],
      "text/latex": [
       "'Mean: 43.1818181818182'"
      ],
      "text/markdown": [
       "'Mean: 43.1818181818182'"
      ],
      "text/plain": [
       "[1] \"Mean: 43.1818181818182\""
      ]
     },
     "metadata": {},
     "output_type": "display_data"
    }
   ],
   "source": [
    "sprintf('Mean: %s', mean(data2)) "
   ]
  },
  {
   "cell_type": "markdown",
   "metadata": {},
   "source": [
    "### Median"
   ]
  },
  {
   "cell_type": "code",
   "execution_count": 34,
   "metadata": {},
   "outputs": [
    {
     "data": {
      "text/html": [
       "'Median: 29'"
      ],
      "text/latex": [
       "'Median: 29'"
      ],
      "text/markdown": [
       "'Median: 29'"
      ],
      "text/plain": [
       "[1] \"Median: 29\""
      ]
     },
     "metadata": {},
     "output_type": "display_data"
    }
   ],
   "source": [
    "sprintf('Median: %s', median(data2)) "
   ]
  },
  {
   "cell_type": "markdown",
   "metadata": {},
   "source": [
    "### Range"
   ]
  },
  {
   "cell_type": "code",
   "execution_count": 35,
   "metadata": {},
   "outputs": [
    {
     "data": {
      "text/html": [
       "<span style=white-space:pre-wrap>'range: 6  to  231 '</span>"
      ],
      "text/latex": [
       "'range: 6  to  231 '"
      ],
      "text/markdown": [
       "<span style=white-space:pre-wrap>'range: 6  to  231 '</span>"
      ],
      "text/plain": [
       "[1] \"range: 6  to  231 \""
      ]
     },
     "metadata": {},
     "output_type": "display_data"
    }
   ],
   "source": [
    "sprintf('range: %s  to  %s ',min(data2),max(data2))"
   ]
  },
  {
   "attachments": {
    "image.png": {
     "image/png": "[encoded data removed]"
    }
   },
   "cell_type": "markdown",
   "metadata": {},
   "source": [
    "#### ---------------------------------------------------------------------------- <br>\n",
    "##  PART 3\n",
    "#### Find the grouped mean of the following data:\n",
    "![image.png](attachment:image.png)"
   ]
  },
  {
   "cell_type": "markdown",
   "metadata": {},
   "source": [
    "#### Data values"
   ]
  },
  {
   "cell_type": "code",
   "execution_count": 54,
   "metadata": {},
   "outputs": [
    {
     "name": "stdout",
     "output_type": "stream",
     "text": [
      "  Category Frequency\n",
      "1      <20         5\n",
      "2 20-39.99        15\n",
      "3 40-59.99        10\n",
      "4 60-79.99        12\n"
     ]
    }
   ],
   "source": [
    "df3 <- data.frame(c(\"<20\", \"20-39.99\", \"40-59.99\", \"60-79.99\"), \n",
    "                 c(5, 15, 10, 12))\n",
    "names(df3) <- c(\"Category\", \"Frequency\")\n",
    "print(df3)"
   ]
  },
  {
   "cell_type": "markdown",
   "metadata": {},
   "source": [
    "#### The grouped mean of the given dataset can be estimated given the frequencies of every interval class. We have four (4) categories or intervals. The interval between them is 20.\n",
    "\n",
    "#### To solve this problem, first, the _midpoint_ of every category will be calculated. These midpoint values (x) will be multiplied to the corresponding frequency values of each class/category (x*f).  "
   ]
  },
  {
   "cell_type": "code",
   "execution_count": 55,
   "metadata": {},
   "outputs": [
    {
     "name": "stdout",
     "output_type": "stream",
     "text": [
      "  Category Frequency Cat_min Cat_max Category_midpoint\n",
      "1      <20         5       0   19.99             9.995\n",
      "2 20-39.99        15      20   39.99            29.995\n",
      "3 40-59.99        10      40   59.99            49.995\n",
      "4 60-79.99        12      60   79.99            69.995\n"
     ]
    }
   ],
   "source": [
    "df3[\"Cat_min\"] <- c(0, 20, 40, 60)\n",
    "df3[\"Cat_max\"] <- c(19.99, 39.99, 59.99, 79.99)\n",
    "df3[\"Category_midpoint\"] <- rowMeans(df3[ , c(3,4)], na.rm=TRUE)\n",
    "print(df3)"
   ]
  },
  {
   "cell_type": "code",
   "execution_count": 68,
   "metadata": {},
   "outputs": [
    {
     "name": "stdout",
     "output_type": "stream",
     "text": [
      "  Category Frequency Category_midpoint      xf\n",
      "1      <20         5             9.995  49.975\n",
      "2 20-39.99        15            29.995 449.925\n",
      "3 40-59.99        10            49.995 499.950\n",
      "4 60-79.99        12            69.995 839.940\n"
     ]
    }
   ],
   "source": [
    "df3[\"xf\"] <- (df3$Frequency*df3$Category_midpoint)\n",
    "#df3[3:4] <-list(NULL)\n",
    "print(df3)"
   ]
  },
  {
   "cell_type": "code",
   "execution_count": 72,
   "metadata": {},
   "outputs": [
    {
     "data": {
      "text/html": [
       "<dl class=dl-horizontal>\n",
       "\t<dt>Frequency</dt>\n",
       "\t\t<dd>42</dd>\n",
       "\t<dt>Category_midpoint</dt>\n",
       "\t\t<dd>159.98</dd>\n",
       "\t<dt>xf</dt>\n",
       "\t\t<dd>1839.79</dd>\n",
       "</dl>\n"
      ],
      "text/latex": [
       "\\begin{description*}\n",
       "\\item[Frequency] 42\n",
       "\\item[Category\\textbackslash{}\\_midpoint] 159.98\n",
       "\\item[xf] 1839.79\n",
       "\\end{description*}\n"
      ],
      "text/markdown": [
       "Frequency\n",
       ":   42Category_midpoint\n",
       ":   159.98xf\n",
       ":   1839.79\n",
       "\n"
      ],
      "text/plain": [
       "        Frequency Category_midpoint                xf \n",
       "            42.00            159.98           1839.79 "
      ]
     },
     "metadata": {},
     "output_type": "display_data"
    }
   ],
   "source": [
    "colSums(df3[2:4])"
   ]
  },
  {
   "attachments": {
    "image-2.png": {
     "image/png": "[encoded data removed]"
    }
   },
   "cell_type": "markdown",
   "metadata": {},
   "source": [
    "### Grouped Mean \n",
    "\n",
    "#### The Grouped Mean can be finally computed by dividing the total x*f values by the total number of  frequency. The formula is:\n",
    "![image-2.png](attachment:image-2.png)"
   ]
  },
  {
   "cell_type": "code",
   "execution_count": 81,
   "metadata": {},
   "outputs": [
    {
     "data": {
      "text/html": [
       "<span style=white-space:pre-wrap>'Est. Grouped Mean:   43.8045238095238 '</span>"
      ],
      "text/latex": [
       "'Est. Grouped Mean:   43.8045238095238 '"
      ],
      "text/markdown": [
       "<span style=white-space:pre-wrap>'Est. Grouped Mean:   43.8045238095238 '</span>"
      ],
      "text/plain": [
       "[1] \"Est. Grouped Mean:   43.8045238095238 \""
      ]
     },
     "metadata": {},
     "output_type": "display_data"
    }
   ],
   "source": [
    "sprintf('Est. Grouped Mean:   %s ', (colSums(df3[4]))/(colSums(df3[2])))"
   ]
  },
  {
   "cell_type": "markdown",
   "metadata": {},
   "source": [
    "#### ---------------------------------------------------------------------------- <br>\n",
    "##  PART 4\n",
    "#### Ten migration distances corresponding to the distances moved by recent migrants are observed (in km): 43, 6, 7, 11, 122, 41, 21, 17, 1, 3. Find the mean and standard deviation. Interpret the result in your own words."
   ]
  },
  {
   "cell_type": "markdown",
   "metadata": {},
   "source": [
    "#### Distance values"
   ]
  },
  {
   "cell_type": "code",
   "execution_count": 83,
   "metadata": {},
   "outputs": [],
   "source": [
    "distance <- c(43, 6, 7, 11, 122, 41, 21, 17, 1, 3)"
   ]
  },
  {
   "cell_type": "code",
   "execution_count": 85,
   "metadata": {},
   "outputs": [
    {
     "name": "stdout",
     "output_type": "stream",
     "text": [
      " num [1:10] 43 6 7 11 122 41 21 17 1 3\n"
     ]
    }
   ],
   "source": [
    "str(distance)"
   ]
  },
  {
   "cell_type": "code",
   "execution_count": 88,
   "metadata": {},
   "outputs": [
    {
     "name": "stderr",
     "output_type": "stream",
     "text": [
      "Warning message:\n",
      "\"package 'pastecs' was built under R version 3.6.3\""
     ]
    },
    {
     "data": {
      "text/html": [
       "<dl class=dl-horizontal>\n",
       "\t<dt>nbr.val</dt>\n",
       "\t\t<dd>10</dd>\n",
       "\t<dt>nbr.null</dt>\n",
       "\t\t<dd>0</dd>\n",
       "\t<dt>nbr.na</dt>\n",
       "\t\t<dd>0</dd>\n",
       "\t<dt>min</dt>\n",
       "\t\t<dd>1</dd>\n",
       "\t<dt>max</dt>\n",
       "\t\t<dd>122</dd>\n",
       "\t<dt>range</dt>\n",
       "\t\t<dd>121</dd>\n",
       "\t<dt>sum</dt>\n",
       "\t\t<dd>272</dd>\n",
       "\t<dt>median</dt>\n",
       "\t\t<dd>14</dd>\n",
       "\t<dt>mean</dt>\n",
       "\t\t<dd>27.2</dd>\n",
       "\t<dt>SE.mean</dt>\n",
       "\t\t<dd>11.5285153713159</dd>\n",
       "\t<dt>CI.mean.0.95</dt>\n",
       "\t\t<dd>26.0793136236514</dd>\n",
       "\t<dt>var</dt>\n",
       "\t\t<dd>1329.06666666667</dd>\n",
       "\t<dt>std.dev</dt>\n",
       "\t\t<dd>36.45636661362</dd>\n",
       "\t<dt>coef.var</dt>\n",
       "\t\t<dd>1.34030759608897</dd>\n",
       "</dl>\n"
      ],
      "text/latex": [
       "\\begin{description*}\n",
       "\\item[nbr.val] 10\n",
       "\\item[nbr.null] 0\n",
       "\\item[nbr.na] 0\n",
       "\\item[min] 1\n",
       "\\item[max] 122\n",
       "\\item[range] 121\n",
       "\\item[sum] 272\n",
       "\\item[median] 14\n",
       "\\item[mean] 27.2\n",
       "\\item[SE.mean] 11.5285153713159\n",
       "\\item[CI.mean.0.95] 26.0793136236514\n",
       "\\item[var] 1329.06666666667\n",
       "\\item[std.dev] 36.45636661362\n",
       "\\item[coef.var] 1.34030759608897\n",
       "\\end{description*}\n"
      ],
      "text/markdown": [
       "nbr.val\n",
       ":   10nbr.null\n",
       ":   0nbr.na\n",
       ":   0min\n",
       ":   1max\n",
       ":   122range\n",
       ":   121sum\n",
       ":   272median\n",
       ":   14mean\n",
       ":   27.2SE.mean\n",
       ":   11.5285153713159CI.mean.0.95\n",
       ":   26.0793136236514var\n",
       ":   1329.06666666667std.dev\n",
       ":   36.45636661362coef.var\n",
       ":   1.34030759608897\n",
       "\n"
      ],
      "text/plain": [
       "     nbr.val     nbr.null       nbr.na          min          max        range \n",
       "   10.000000     0.000000     0.000000     1.000000   122.000000   121.000000 \n",
       "         sum       median         mean      SE.mean CI.mean.0.95          var \n",
       "  272.000000    14.000000    27.200000    11.528515    26.079314  1329.066667 \n",
       "     std.dev     coef.var \n",
       "   36.456367     1.340308 "
      ]
     },
     "metadata": {},
     "output_type": "display_data"
    }
   ],
   "source": [
    "#install.packages(\"pastecs\")\n",
    "library(pastecs)\n",
    "stat.desc(distance)"
   ]
  },
  {
   "cell_type": "markdown",
   "metadata": {},
   "source": [
    "### Mean and Standard Deviation\n"
   ]
  },
  {
   "cell_type": "code",
   "execution_count": 91,
   "metadata": {},
   "outputs": [
    {
     "data": {
      "text/html": [
       "'Mean Distance: 27.2'"
      ],
      "text/latex": [
       "'Mean Distance: 27.2'"
      ],
      "text/markdown": [
       "'Mean Distance: 27.2'"
      ],
      "text/plain": [
       "[1] \"Mean Distance: 27.2\""
      ]
     },
     "metadata": {},
     "output_type": "display_data"
    },
    {
     "data": {
      "text/html": [
       "'Standard Deviation: 36.45636661362'"
      ],
      "text/latex": [
       "'Standard Deviation: 36.45636661362'"
      ],
      "text/markdown": [
       "'Standard Deviation: 36.45636661362'"
      ],
      "text/plain": [
       "[1] \"Standard Deviation: 36.45636661362\""
      ]
     },
     "metadata": {},
     "output_type": "display_data"
    },
    {
     "data": {
      "text/plain": [
       "   Min. 1st Qu.  Median    Mean 3rd Qu.    Max. \n",
       "   1.00    6.25   14.00   27.20   36.00  122.00 "
      ]
     },
     "metadata": {},
     "output_type": "display_data"
    }
   ],
   "source": [
    "sprintf(\"Mean Distance: %s\", mean(distance))\n",
    "sprintf(\"Standard Deviation: %s\", sd(distance))\n",
    "summary(distance)"
   ]
  },
  {
   "cell_type": "markdown",
   "metadata": {},
   "source": [
    "#### There were 10 migration distances (in km). From the summary statistics above, we can see that the range is 121. However, looking at this measure alone doesn't give us much about the spread/distribution of the data. It only took into account the minimum (1) and maximum (122) values.\n",
    "\n",
    "#### Comparing this with the actual mean distance and standard variation, we find that the range is too high when the mean is just 27.2000. Following this, we find that the SD is also 36.4563, which is greater than the mean. This is a high standard deviation value, indicating a high variation within the dataset.\n",
    "\n",
    "#### It is also important to note that the 3rd Quartile value is just 36. All this leads us to ask: _is the maximum distance value of 122 an \"outlier\"_ ? Since its frequency is equal to 1, and that the rest of the 75% of the dataset is 36 and lower, we can definitely conclude that it is. The histogram below also presents this observation.\n"
   ]
  },
  {
   "cell_type": "code",
   "execution_count": 109,
   "metadata": {},
   "outputs": [
    {
     "data": {
      "image/png": "[encoded data removed]",
      "text/plain": [
       "Plot with title \"Histogram of distance\""
      ]
     },
     "metadata": {},
     "output_type": "display_data"
    }
   ],
   "source": [
    "hist(distance, col=\"grey\")\n",
    "abline(v= mean(distance), col=\"blue\")   # BLUE line = mean\n",
    "abline(v= median(distance), col=\"red\")  # RED line = median"
   ]
  },
  {
   "cell_type": "markdown",
   "metadata": {},
   "source": [
    "#### ---------------------------------------------------------------------------- <br>\n",
    "##  PART 5\n",
    "#### Open the Excel file called Data_simpleExercises1.xls. Use Excel functionality to calculate descriptive statistics of intelligence scores as described in the file."
   ]
  },
  {
   "cell_type": "markdown",
   "metadata": {},
   "source": [
    "#### Data on Intelligence scores (IQ)  from _Data_simpleExercises1.xls_"
   ]
  },
  {
   "cell_type": "code",
   "execution_count": 113,
   "metadata": {},
   "outputs": [
    {
     "name": "stdout",
     "output_type": "stream",
     "text": [
      "   Item   X_i\n",
      "1     1  96.8\n",
      "2     2  95.9\n",
      "3     3  92.6\n",
      "4     4  98.7\n",
      "5     5 106.4\n",
      "6     6 124.5\n",
      "7     7 107.1\n",
      "8     8  58.1\n",
      "9     9 101.8\n",
      "10   10  96.0\n",
      "11   11 102.6\n",
      "12   12  64.8\n",
      "13   13 117.3\n",
      "14   14 104.4\n",
      "15   15  98.4\n",
      "16   16 126.0\n",
      "17   17 115.3\n",
      "18   18  91.3\n",
      "19   19  99.9\n",
      "20   20 115.0\n"
     ]
    }
   ],
   "source": [
    "df5 <- data.frame(c(1:20),\n",
    "                  c(96.8,95.9,92.6,98.7,106.4,124.5,107.1,58.1,101.8,96,102.6,64.8,117.3,104.4,98.4,126,115.3,91.3,99.9,115))\n",
    "names(df5) <- c(\"Item\", \"X_i\")   \n",
    "print(df5)"
   ]
  },
  {
   "cell_type": "markdown",
   "metadata": {},
   "source": [
    "### The arithmetic mean"
   ]
  },
  {
   "cell_type": "code",
   "execution_count": 114,
   "metadata": {},
   "outputs": [
    {
     "data": {
      "text/html": [
       "'Mean: 100.645'"
      ],
      "text/latex": [
       "'Mean: 100.645'"
      ],
      "text/markdown": [
       "'Mean: 100.645'"
      ],
      "text/plain": [
       "[1] \"Mean: 100.645\""
      ]
     },
     "metadata": {},
     "output_type": "display_data"
    }
   ],
   "source": [
    "sprintf(\"Mean: %s\",mean(df5$X_i))"
   ]
  },
  {
   "cell_type": "markdown",
   "metadata": {},
   "source": [
    "### The median\n"
   ]
  },
  {
   "cell_type": "code",
   "execution_count": 116,
   "metadata": {},
   "outputs": [
    {
     "data": {
      "text/html": [
       "<span style=white-space:pre-wrap>'Median:  100.85'</span>"
      ],
      "text/latex": [
       "'Median:  100.85'"
      ],
      "text/markdown": [
       "<span style=white-space:pre-wrap>'Median:  100.85'</span>"
      ],
      "text/plain": [
       "[1] \"Median:  100.85\""
      ]
     },
     "metadata": {},
     "output_type": "display_data"
    }
   ],
   "source": [
    "sprintf(\"Median:  %s\",median(df5$X_i))"
   ]
  },
  {
   "cell_type": "markdown",
   "metadata": {},
   "source": [
    "### 1st (25%) , 2nd (50%) , 3rd (75%) Quartiles"
   ]
  },
  {
   "cell_type": "code",
   "execution_count": 121,
   "metadata": {},
   "outputs": [
    {
     "data": {
      "text/html": [
       "<dl class=dl-horizontal>\n",
       "\t<dt>0%</dt>\n",
       "\t\t<dd>58.1</dd>\n",
       "\t<dt>25%</dt>\n",
       "\t\t<dd>95.975</dd>\n",
       "\t<dt>50%</dt>\n",
       "\t\t<dd>100.85</dd>\n",
       "\t<dt>75%</dt>\n",
       "\t\t<dd>109.075</dd>\n",
       "\t<dt>100%</dt>\n",
       "\t\t<dd>126</dd>\n",
       "</dl>\n"
      ],
      "text/latex": [
       "\\begin{description*}\n",
       "\\item[0\\textbackslash{}\\%] 58.1\n",
       "\\item[25\\textbackslash{}\\%] 95.975\n",
       "\\item[50\\textbackslash{}\\%] 100.85\n",
       "\\item[75\\textbackslash{}\\%] 109.075\n",
       "\\item[100\\textbackslash{}\\%] 126\n",
       "\\end{description*}\n"
      ],
      "text/markdown": [
       "0%\n",
       ":   58.125%\n",
       ":   95.97550%\n",
       ":   100.8575%\n",
       ":   109.075100%\n",
       ":   126\n",
       "\n"
      ],
      "text/plain": [
       "     0%     25%     50%     75%    100% \n",
       " 58.100  95.975 100.850 109.075 126.000 "
      ]
     },
     "metadata": {},
     "output_type": "display_data"
    }
   ],
   "source": [
    "quantile(df5$X_i)"
   ]
  },
  {
   "cell_type": "markdown",
   "metadata": {},
   "source": [
    "### Interquartile Range"
   ]
  },
  {
   "cell_type": "code",
   "execution_count": 122,
   "metadata": {},
   "outputs": [
    {
     "data": {
      "text/html": [
       "'Interquartile range = 13.1'"
      ],
      "text/latex": [
       "'Interquartile range = 13.1'"
      ],
      "text/markdown": [
       "'Interquartile range = 13.1'"
      ],
      "text/plain": [
       "[1] \"Interquartile range = 13.1\""
      ]
     },
     "metadata": {},
     "output_type": "display_data"
    }
   ],
   "source": [
    "quan5 <- quantile(df5$X_i)\n",
    "sprintf(\"Interquartile range = %s\", quan5[4]-quan5[2])"
   ]
  },
  {
   "cell_type": "markdown",
   "metadata": {},
   "source": [
    "### Minimum and Maximum"
   ]
  },
  {
   "cell_type": "code",
   "execution_count": 135,
   "metadata": {},
   "outputs": [
    {
     "data": {
      "text/html": [
       "<span style=white-space:pre-wrap>'Minimum:  58.1'</span>"
      ],
      "text/latex": [
       "'Minimum:  58.1'"
      ],
      "text/markdown": [
       "<span style=white-space:pre-wrap>'Minimum:  58.1'</span>"
      ],
      "text/plain": [
       "[1] \"Minimum:  58.1\""
      ]
     },
     "metadata": {},
     "output_type": "display_data"
    },
    {
     "data": {
      "text/html": [
       "<span style=white-space:pre-wrap>'Maximum:  126'</span>"
      ],
      "text/latex": [
       "'Maximum:  126'"
      ],
      "text/markdown": [
       "<span style=white-space:pre-wrap>'Maximum:  126'</span>"
      ],
      "text/plain": [
       "[1] \"Maximum:  126\""
      ]
     },
     "metadata": {},
     "output_type": "display_data"
    }
   ],
   "source": [
    "sprintf(\"Minimum:  %s\", min(df5$X_i))\n",
    "sprintf(\"Maximum:  %s\", max(df5$X_i))"
   ]
  },
  {
   "cell_type": "markdown",
   "metadata": {},
   "source": [
    "### Variance"
   ]
  },
  {
   "cell_type": "code",
   "execution_count": 127,
   "metadata": {},
   "outputs": [
    {
     "data": {
      "text/html": [
       "279.971026315789"
      ],
      "text/latex": [
       "279.971026315789"
      ],
      "text/markdown": [
       "279.971026315789"
      ],
      "text/plain": [
       "[1] 279.971"
      ]
     },
     "metadata": {},
     "output_type": "display_data"
    }
   ],
   "source": [
    "var(df5$X_i)"
   ]
  },
  {
   "cell_type": "markdown",
   "metadata": {},
   "source": [
    "### Sample Standard Deviation"
   ]
  },
  {
   "cell_type": "code",
   "execution_count": 128,
   "metadata": {},
   "outputs": [
    {
     "data": {
      "text/html": [
       "16.7323347538767"
      ],
      "text/latex": [
       "16.7323347538767"
      ],
      "text/markdown": [
       "16.7323347538767"
      ],
      "text/plain": [
       "[1] 16.73233"
      ]
     },
     "metadata": {},
     "output_type": "display_data"
    }
   ],
   "source": [
    "sd(df5$X_i)"
   ]
  },
  {
   "cell_type": "markdown",
   "metadata": {},
   "source": [
    "#### Checking"
   ]
  },
  {
   "cell_type": "code",
   "execution_count": 129,
   "metadata": {},
   "outputs": [
    {
     "data": {
      "text/html": [
       "<dl class=dl-horizontal>\n",
       "\t<dt>nbr.val</dt>\n",
       "\t\t<dd>20</dd>\n",
       "\t<dt>nbr.null</dt>\n",
       "\t\t<dd>0</dd>\n",
       "\t<dt>nbr.na</dt>\n",
       "\t\t<dd>0</dd>\n",
       "\t<dt>min</dt>\n",
       "\t\t<dd>58.1</dd>\n",
       "\t<dt>max</dt>\n",
       "\t\t<dd>126</dd>\n",
       "\t<dt>range</dt>\n",
       "\t\t<dd>67.9</dd>\n",
       "\t<dt>sum</dt>\n",
       "\t\t<dd>2012.9</dd>\n",
       "\t<dt>median</dt>\n",
       "\t\t<dd>100.85</dd>\n",
       "\t<dt>mean</dt>\n",
       "\t\t<dd>100.645</dd>\n",
       "\t<dt>SE.mean</dt>\n",
       "\t\t<dd>3.74146379319505</dd>\n",
       "\t<dt>CI.mean.0.95</dt>\n",
       "\t\t<dd>7.83097371785499</dd>\n",
       "\t<dt>var</dt>\n",
       "\t\t<dd>279.971026315789</dd>\n",
       "\t<dt>std.dev</dt>\n",
       "\t\t<dd>16.7323347538767</dd>\n",
       "\t<dt>coef.var</dt>\n",
       "\t\t<dd>0.166251028405551</dd>\n",
       "</dl>\n"
      ],
      "text/latex": [
       "\\begin{description*}\n",
       "\\item[nbr.val] 20\n",
       "\\item[nbr.null] 0\n",
       "\\item[nbr.na] 0\n",
       "\\item[min] 58.1\n",
       "\\item[max] 126\n",
       "\\item[range] 67.9\n",
       "\\item[sum] 2012.9\n",
       "\\item[median] 100.85\n",
       "\\item[mean] 100.645\n",
       "\\item[SE.mean] 3.74146379319505\n",
       "\\item[CI.mean.0.95] 7.83097371785499\n",
       "\\item[var] 279.971026315789\n",
       "\\item[std.dev] 16.7323347538767\n",
       "\\item[coef.var] 0.166251028405551\n",
       "\\end{description*}\n"
      ],
      "text/markdown": [
       "nbr.val\n",
       ":   20nbr.null\n",
       ":   0nbr.na\n",
       ":   0min\n",
       ":   58.1max\n",
       ":   126range\n",
       ":   67.9sum\n",
       ":   2012.9median\n",
       ":   100.85mean\n",
       ":   100.645SE.mean\n",
       ":   3.74146379319505CI.mean.0.95\n",
       ":   7.83097371785499var\n",
       ":   279.971026315789std.dev\n",
       ":   16.7323347538767coef.var\n",
       ":   0.166251028405551\n",
       "\n"
      ],
      "text/plain": [
       "     nbr.val     nbr.null       nbr.na          min          max        range \n",
       "   20.000000     0.000000     0.000000    58.100000   126.000000    67.900000 \n",
       "         sum       median         mean      SE.mean CI.mean.0.95          var \n",
       " 2012.900000   100.850000   100.645000     3.741464     7.830974   279.971026 \n",
       "     std.dev     coef.var \n",
       "   16.732335     0.166251 "
      ]
     },
     "metadata": {},
     "output_type": "display_data"
    }
   ],
   "source": [
    "stat.desc(df5$X_i)"
   ]
  },
  {
   "cell_type": "markdown",
   "metadata": {},
   "source": [
    "#### ---------------------------------------------------------------------------- <br>\n",
    "##  PART 6\n",
    "#### Describe the following data by using common data categories (nominal, ordinal, dichotomous, discrete, etc.):\n",
    " - Intelligence scores    => __(ORDINAL SCALE; DISCRETE)__\n",
    " - Temperature in Kelvin  => __(PROPORTIONAL SCALE; CONTINUOUS)__\n",
    " - Temperature in °C      => __(INTERVAL SCALE; CONTINUOUS)__\n",
    " - Rainy days in September => __(NOMINAL SCALE; DICHOTOMOUS)__\n",
    " - Hair color (blond, black, brown) => __(NOMINAL SCALE; DISCRETE)__\n",
    " - Rankings of teams in a tournament => __(ORDINAL SCALE; DISCRETE)__\n",
    " - Body size classified as tiny, small, medium, tall, and giant => __(NOMINAL SCALE; DISCRETE)__\n",
    " - Customer satisfaction (satisfied or not satisfied)  => __(NOMINAL SCALE; DICHOTOMOUS)__"
   ]
  },
  {
   "attachments": {
    "image.png": {
     "image/png": "[encoded data removed]"
    }
   },
   "cell_type": "markdown",
   "metadata": {},
   "source": [
    "### a) Find the weighted mean center of population, where cities’ population and coordinates are given as follows:\n",
    "![image.png](attachment:image.png)"
   ]
  },
  {
   "cell_type": "code",
   "execution_count": 2,
   "metadata": {},
   "outputs": [
    {
     "name": "stdout",
     "output_type": "stream",
     "text": [
      "  City   x   y Population\n",
      "1    A 3.3 4.3      34000\n",
      "2    B 1.1 3.4       6500\n",
      "3    C 5.5 1.2       8000\n",
      "4    D 3.7 2.4       5000\n",
      "5    E 1.1 1.1       1500\n"
     ]
    }
   ],
   "source": [
    "cities_df <- data.frame(c(\"A\", \"B\",\"C\",\"D\",\"E\"),\n",
    "                       c(3.3,1.1, 5.5,3.7,1.1),\n",
    "                       c(4.3,3.4,1.2,2.4,1.1),\n",
    "                       c(34000,6500,8000,5000,1500))\n",
    "names(cities_df) <- c(\"City\", \"x\", \"y\",\"Population\")\n",
    "print(cities_df)"
   ]
  },
  {
   "cell_type": "code",
   "execution_count": 3,
   "metadata": {},
   "outputs": [
    {
     "name": "stdout",
     "output_type": "stream",
     "text": [
      "  City   x   y Population   xPop   yPop\n",
      "1    A 3.3 4.3      34000 112200 146200\n",
      "2    B 1.1 3.4       6500   7150  22100\n",
      "3    C 5.5 1.2       8000  44000   9600\n",
      "4    D 3.7 2.4       5000  18500  12000\n",
      "5    E 1.1 1.1       1500   1650   1650\n"
     ]
    }
   ],
   "source": [
    "cities_df[\"xPop\"] <- cities_df$x*cities_df$Population\n",
    "cities_df[\"yPop\"] <- cities_df$y*cities_df$Population\n",
    "print(cities_df)"
   ]
  },
  {
   "attachments": {
    "image.png": {
     "image/png": "[encoded data removed]"
    }
   },
   "cell_type": "markdown",
   "metadata": {},
   "source": [
    "#### Weighted Mean Center\n",
    "![image.png](attachment:image.png)"
   ]
  },
  {
   "cell_type": "code",
   "execution_count": 4,
   "metadata": {},
   "outputs": [
    {
     "data": {
      "text/html": [
       "<dl class=dl-horizontal>\n",
       "\t<dt>x</dt>\n",
       "\t\t<dd>14.7</dd>\n",
       "\t<dt>y</dt>\n",
       "\t\t<dd>12.4</dd>\n",
       "\t<dt>Population</dt>\n",
       "\t\t<dd>55000</dd>\n",
       "\t<dt>xPop</dt>\n",
       "\t\t<dd>183500</dd>\n",
       "\t<dt>yPop</dt>\n",
       "\t\t<dd>191550</dd>\n",
       "</dl>\n"
      ],
      "text/latex": [
       "\\begin{description*}\n",
       "\\item[x] 14.7\n",
       "\\item[y] 12.4\n",
       "\\item[Population] 55000\n",
       "\\item[xPop] 183500\n",
       "\\item[yPop] 191550\n",
       "\\end{description*}\n"
      ],
      "text/markdown": [
       "x\n",
       ":   14.7y\n",
       ":   12.4Population\n",
       ":   55000xPop\n",
       ":   183500yPop\n",
       ":   191550\n",
       "\n"
      ],
      "text/plain": [
       "         x          y Population       xPop       yPop \n",
       "      14.7       12.4    55000.0   183500.0   191550.0 "
      ]
     },
     "metadata": {},
     "output_type": "display_data"
    }
   ],
   "source": [
    "colSums(cities_df[,2:6])"
   ]
  },
  {
   "cell_type": "code",
   "execution_count": 5,
   "metadata": {},
   "outputs": [
    {
     "data": {
      "text/html": [
       "<span style=white-space:pre-wrap>'Weighted Mean Center (X,Y)  =  ( 3.33636363636364 , 3.48272727272727 )'</span>"
      ],
      "text/latex": [
       "'Weighted Mean Center (X,Y)  =  ( 3.33636363636364 , 3.48272727272727 )'"
      ],
      "text/markdown": [
       "<span style=white-space:pre-wrap>'Weighted Mean Center (X,Y)  =  ( 3.33636363636364 , 3.48272727272727 )'</span>"
      ],
      "text/plain": [
       "[1] \"Weighted Mean Center (X,Y)  =  ( 3.33636363636364 , 3.48272727272727 )\""
      ]
     },
     "metadata": {},
     "output_type": "display_data"
    }
   ],
   "source": [
    "cities_tot<- colSums(cities_df[,2:6])\n",
    "Xbar <- cities_tot[4]/cities_tot[3]\n",
    "Ybar <- cities_tot[5]/cities_tot[3]\n",
    "\n",
    "sprintf(\"Weighted Mean Center (X,Y)  =  ( %s , %s )\", Xbar, Ybar)"
   ]
  },
  {
   "cell_type": "markdown",
   "metadata": {},
   "source": [
    "### (b) Find the unweighted mean center, and comment on the differences between your two answers.\n",
    "\n",
    "#### The unweighted mean center would just be the mean of x and y. "
   ]
  },
  {
   "cell_type": "code",
   "execution_count": 6,
   "metadata": {},
   "outputs": [
    {
     "data": {
      "text/html": [
       "<span style=white-space:pre-wrap>'Unweighted Mean Center (x,y)  =  ( 2.94 , 2.48 )'</span>"
      ],
      "text/latex": [
       "'Unweighted Mean Center (x,y)  =  ( 2.94 , 2.48 )'"
      ],
      "text/markdown": [
       "<span style=white-space:pre-wrap>'Unweighted Mean Center (x,y)  =  ( 2.94 , 2.48 )'</span>"
      ],
      "text/plain": [
       "[1] \"Unweighted Mean Center (x,y)  =  ( 2.94 , 2.48 )\""
      ]
     },
     "metadata": {},
     "output_type": "display_data"
    }
   ],
   "source": [
    "x <- mean(cities_df$x)\n",
    "y <- mean(cities_df$y)\n",
    "\n",
    "sprintf(\"Unweighted Mean Center (x,y)  =  ( %s , %s )\", x, y)"
   ]
  },
  {
   "cell_type": "code",
   "execution_count": 7,
   "metadata": {},
   "outputs": [
    {
     "data": {
      "image/png": "[encoded data removed]",
      "text/plain": [
       "Plot with title \"Plot of Cities and their\n",
       " Weighted and Unweighted Mean Center of Population\""
      ]
     },
     "metadata": {},
     "output_type": "display_data"
    }
   ],
   "source": [
    "plot(cities_df$x, cities_df$y, xlab=\"x\", ylab=\"y\", pch=16,         #plot x-y of cities = BLACK\n",
    "     col=\"black\",\n",
    "     main=\"Plot of Cities and their\\n Weighted and Unweighted Mean Center of Population\")  \n",
    "points(Xbar,Ybar, pch=17, col=\"red\")                 #plot WEIGHTED mean center = RED\n",
    "points(x,y, pch=15, col=\"blue\")                      #plot UNweighted mean center = BLUE"
   ]
  },
  {
   "cell_type": "markdown",
   "metadata": {},
   "source": [
    "#### In numbers, the difference between the Weighted and Unweighted mean centers are :"
   ]
  },
  {
   "cell_type": "code",
   "execution_count": 8,
   "metadata": {},
   "outputs": [
    {
     "name": "stderr",
     "output_type": "stream",
     "text": [
      "Your code contains a unicode char which cannot be displayed in your\n",
      "current locale and R will silently convert it to an escaped form when the\n",
      "R kernel executes this code. This can lead to subtle errors if you use\n",
      "such chars to do comparisons. For more information, please see\n",
      "https://github.com/IRkernel/repr/wiki/Problems-with-unicode-on-windows"
     ]
    },
    {
     "data": {
      "text/html": [
       "'delta x = 0.396363636363636'"
      ],
      "text/latex": [
       "'delta x = 0.396363636363636'"
      ],
      "text/markdown": [
       "'delta x = 0.396363636363636'"
      ],
      "text/plain": [
       "[1] \"delta x = 0.396363636363636\""
      ]
     },
     "metadata": {},
     "output_type": "display_data"
    },
    {
     "data": {
      "text/html": [
       "'delta y = 1.00272727272727'"
      ],
      "text/latex": [
       "'delta y = 1.00272727272727'"
      ],
      "text/markdown": [
       "'delta y = 1.00272727272727'"
      ],
      "text/plain": [
       "[1] \"delta y = 1.00272727272727\""
      ]
     },
     "metadata": {},
     "output_type": "display_data"
    }
   ],
   "source": [
    "delta_x <- Xbar-x\n",
    "delta_y <- Ybar-y\n",
    "\n",
    "sprintf(\"delta x = %s\", delta_x)   # Δx\n",
    "sprintf(\"delta y = %s\", delta_y)   # Δy"
   ]
  },
  {
   "cell_type": "markdown",
   "metadata": {},
   "source": [
    "### (c) Find the distance of each city to the weighted mean center of population."
   ]
  },
  {
   "cell_type": "code",
   "execution_count": 9,
   "metadata": {},
   "outputs": [
    {
     "name": "stdout",
     "output_type": "stream",
     "text": [
      "  City   x   y Population   xPop   yPop          dx          dy\n",
      "1    A 3.3 4.3      34000 112200 146200  0.03636364 -0.81727273\n",
      "2    B 1.1 3.4       6500   7150  22100  2.23636364  0.08272727\n",
      "3    C 5.5 1.2       8000  44000   9600 -2.16363636  2.28272727\n",
      "4    D 3.7 2.4       5000  18500  12000 -0.36363636  1.08272727\n",
      "5    E 1.1 1.1       1500   1650   1650  2.23636364  2.38272727\n",
      "  distance_to_Wmeancenter  Wmean_X  Wmean_Y\n",
      "1               0.8180813 3.336364 3.482727\n",
      "2               2.2378932 3.336364 3.482727\n",
      "3               3.1451814 3.336364 3.482727\n",
      "4               1.1421601 3.336364 3.482727\n",
      "5               3.2678298 3.336364 3.482727\n"
     ]
    }
   ],
   "source": [
    "\n",
    "cities_df[\"dx\"] <- (Xbar - cities_df$x)\n",
    "cities_df[\"dy\"] <- (Ybar - cities_df$y)\n",
    "cities_df[\"distance_to_Wmeancenter\"] <- sqrt((cities_df$dx)^2 + (cities_df$dy)^2)\n",
    "cities_df[\"Wmean_X\"] <- rep(c(Xbar), rep=5)  #weighted mean center X\n",
    "cities_df[\"Wmean_Y\"] <- rep(c(Ybar), rep=5)  #weighted mean center Y\n",
    "#cities_df[,5:6] <- list(NULL)\n",
    "#cities_df[,8] <- NULL\n",
    "print(cities_df)"
   ]
  },
  {
   "cell_type": "markdown",
   "metadata": {},
   "source": [
    "### (d) Find the standard distance (weighted) for the five cities."
   ]
  },
  {
   "cell_type": "code",
   "execution_count": 10,
   "metadata": {},
   "outputs": [
    {
     "name": "stdout",
     "output_type": "stream",
     "text": [
      "  City   x   y Population   xPop   yPop          dx          dy\n",
      "1    A 3.3 4.3      34000 112200 146200  0.03636364 -0.81727273\n",
      "2    B 1.1 3.4       6500   7150  22100  2.23636364  0.08272727\n",
      "3    C 5.5 1.2       8000  44000   9600 -2.16363636  2.28272727\n",
      "4    D 3.7 2.4       5000  18500  12000 -0.36363636  1.08272727\n",
      "5    E 1.1 1.1       1500   1650   1650  2.23636364  2.38272727\n",
      "  distance_to_Wmeancenter  Wmean_X  Wmean_Y standard_distance\n",
      "1               0.8180813 3.336364 3.482727         0.4723195\n",
      "2               2.2378932 3.336364 3.482727         1.2920483\n",
      "3               3.1451814 3.336364 3.482727         1.8158713\n",
      "4               1.1421601 3.336364 3.482727         0.6594265\n",
      "5               3.2678298 3.336364 3.482727         1.8866824\n"
     ]
    }
   ],
   "source": [
    "cities_df[\"standard_distance\"] <- sqrt(((cities_df$dx)^2 + (cities_df$dy)^2)/(5-2))\n",
    "print(cities_df)"
   ]
  },
  {
   "cell_type": "markdown",
   "metadata": {},
   "source": [
    "### (e) Find the relative standard distance by using the standard distance in part (d), and by assuming that the study area has a size of 10 (look up the equation for the area of a circle online to calculate r!)"
   ]
  },
  {
   "cell_type": "code",
   "execution_count": 11,
   "metadata": {},
   "outputs": [
    {
     "name": "stdout",
     "output_type": "stream",
     "text": [
      "  City   x   y Population   xPop   yPop          dx          dy\n",
      "1    A 3.3 4.3      34000 112200 146200  0.03636364 -0.81727273\n",
      "2    B 1.1 3.4       6500   7150  22100  2.23636364  0.08272727\n",
      "3    C 5.5 1.2       8000  44000   9600 -2.16363636  2.28272727\n",
      "4    D 3.7 2.4       5000  18500  12000 -0.36363636  1.08272727\n",
      "5    E 1.1 1.1       1500   1650   1650  2.23636364  2.38272727\n",
      "  distance_to_Wmeancenter  Wmean_X  Wmean_Y standard_distance\n",
      "1               0.8180813 3.336364 3.482727         0.4723195\n",
      "2               2.2378932 3.336364 3.482727         1.2920483\n",
      "3               3.1451814 3.336364 3.482727         1.8158713\n",
      "4               1.1421601 3.336364 3.482727         0.6594265\n",
      "5               3.2678298 3.336364 3.482727         1.8866824\n",
      "  relative_standard_distance\n",
      "1                  0.2647346\n",
      "2                  0.7241919\n",
      "3                  1.0177943\n",
      "4                  0.3696079\n",
      "5                  1.0574838\n"
     ]
    }
   ],
   "source": [
    "area <- 10\n",
    "#area circle = pi* r^2\n",
    "#solving for r\n",
    "r <- sqrt(area/pi)\n",
    "\n",
    "cities_df[\"relative_standard_distance\"] <- cities_df$standard_distance/r\n",
    "print(cities_df)"
   ]
  },
  {
   "cell_type": "markdown",
   "metadata": {},
   "source": [
    "### (f) Repeat part (e), this time assuming that the size of the study area is 15,000m². \n",
    "\n",
    "\n",
    "#### (relative_distance2)"
   ]
  },
  {
   "cell_type": "code",
   "execution_count": 12,
   "metadata": {},
   "outputs": [
    {
     "name": "stdout",
     "output_type": "stream",
     "text": [
      "  City   x   y Population   xPop   yPop          dx          dy\n",
      "1    A 3.3 4.3      34000 112200 146200  0.03636364 -0.81727273\n",
      "2    B 1.1 3.4       6500   7150  22100  2.23636364  0.08272727\n",
      "3    C 5.5 1.2       8000  44000   9600 -2.16363636  2.28272727\n",
      "4    D 3.7 2.4       5000  18500  12000 -0.36363636  1.08272727\n",
      "5    E 1.1 1.1       1500   1650   1650  2.23636364  2.38272727\n",
      "  distance_to_Wmeancenter  Wmean_X  Wmean_Y standard_distance\n",
      "1               0.8180813 3.336364 3.482727         0.4723195\n",
      "2               2.2378932 3.336364 3.482727         1.2920483\n",
      "3               3.1451814 3.336364 3.482727         1.8158713\n",
      "4               1.1421601 3.336364 3.482727         0.6594265\n",
      "5               3.2678298 3.336364 3.482727         1.8866824\n",
      "  relative_standard_distance relative_standard_distance2\n",
      "1                  0.2647346                   0.2161549\n",
      "2                  0.7241919                   0.5913002\n",
      "3                  1.0177943                   0.8310256\n",
      "4                  0.3696079                   0.3017836\n",
      "5                  1.0574838                   0.8634319\n"
     ]
    }
   ],
   "source": [
    "area2 <- 15.000\n",
    "#area circle = pi* r^2\n",
    "#solving for r\n",
    "r2 <- sqrt(area2/pi)\n",
    "\n",
    "cities_df[\"relative_standard_distance2\"] <- cities_df$standard_distance/r2\n",
    "print(cities_df)"
   ]
  },
  {
   "cell_type": "markdown",
   "metadata": {},
   "source": [
    "#### -----------------------------------------------------------------\n",
    "#### References:\n",
    "\n",
    "#### https://www150.statcan.gc.ca/n1/edu/power-pouvoir/ch12/5214890-eng.htm\n",
    "#### https://www.cuemath.com/data/mean-of-grouped-data/\n",
    "#### https://www.mathsisfun.com/data/frequency-grouped-mean-median-mode.html\n",
    "#### https://www.geeksforgeeks.org/how-to-add-mean-and-median-to-histogram-in-r/\n",
    "#### https://r-coder.com/plot-r/"
   ]
  }
 ],
 "metadata": {
  "kernelspec": {
   "display_name": "R",
   "language": "R",
   "name": "ir"
  },
  "language_info": {
   "codemirror_mode": "r",
   "file_extension": ".r",
   "mimetype": "text/x-r-source",
   "name": "R",
   "pygments_lexer": "r",
   "version": "3.6.1"
  }
 },
 "nbformat": 4,
 "nbformat_minor": 4
}
