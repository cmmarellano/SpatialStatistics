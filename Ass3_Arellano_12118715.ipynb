{
 "cells": [
  {
   "cell_type": "markdown",
   "metadata": {},
   "source": [
    "## Spatial Statistics\n",
    "#### Assignment 3\n",
    "###### Prepared by: Carla Mae Arellano (https://github.com/cmmarellano/SpatialStatistics)\n",
    "###### Date: 17.04.2022 <br><br>"
   ]
  },
  {
   "cell_type": "markdown",
   "metadata": {},
   "source": [
    "# Part 1\n",
    "\n",
    "### Suppose that the mean annual temperature for a location was uniformly distributed, between 10°C and 18°C, implying that in each year any temperature in this range is equally likely to be the mean for the year. (Note: This is an unrealistic example, in the sense that mean temperatures are not likely to have this kind of distribution.)\n",
    "- (a) What is the probability that the mean annual temperature is between 12°C and 15°C (see slide Uniform Distribution)?\n",
    "- (b) What is the probability that the mean annual temperature is extreme in one year (below 10.5°C or above 17.8°C)?"
   ]
  },
  {
   "cell_type": "markdown",
   "metadata": {},
   "source": [
    "#### Given:\n",
    "- uniform distribution\n",
    "- a = 10deg C\n",
    "- b = 18deg C\n"
   ]
  },
  {
   "cell_type": "markdown",
   "metadata": {},
   "source": [
    "### A) \n",
    "#### For a), we want to know the probability of mean temp between 12deg and 15deg, denoting as -> P(12 $\\le$ x$\\le$ 15). \n",
    "#### Using the formula for Probability density function, we know from the given:\n",
    "- (b-a) = 18 - 10 = 8\n",
    "- 1/(b-a) = 1 /8 = 0.125\n",
    "- P( 10 $\\le$ x $\\le$ 15) = 1 = 8 * (1/8)\n",
    "\n",
    "#### Hence we can compute for P ( 12 $\\le$ x $\\le$ 15) by letting x2 = 15 and x1 = 12. The area for the whole uniform distribution is 1. For this \"subset\", let the length of the rectangular distribution be equal to : \n",
    "- x2-x1 = 3 (length)\n",
    "- 1/(b-a) = 1/8 (constant height)\n",
    "\n",
    "\n",
    "#### The probability will be equal to the area of this subset.\n",
    "- Area = 3* (1/8)\n",
    "- Area = 3/8 = 0.375\n",
    "\n",
    "\n",
    "----\n",
    "### P ( 12 $\\le$ x $\\le$ 15) = 0.375\n",
    "----"
   ]
  },
  {
   "cell_type": "markdown",
   "metadata": {},
   "source": [
    "### B)\n",
    "#### We do the same for b). But here, now we are interested to know the probability of mean temp at extremes - below 10.5deg OR  above 17.8deg C - denoting as P ( X $\\le$ 10.5) OR P ( X $\\ge$ 17.8)\n",
    "#### Recalling the Probability rule for \"mutually exclusive\" events, P (A OR B) = P(A) + P(B) \n",
    "\n",
    "\n",
    "#### Solving P ( x $\\le$ 10.5) :\n",
    "- let x2 = 10.5\n",
    "- length of rectangle = (x2 - a) = (10.5 - 10) = 0.5\n",
    "- height = 1/(b-a) = 1/8 \n",
    "- __P ( X $\\le$ 10.5 ) = 1/16 = 0.0625__\n",
    "\n",
    "#### Solving P ( x $\\ge$ 17.8) :\n",
    "- let x2 = 17.8\n",
    "- length of rectangle = (b - x2) = (18 - 17.8) = 0.2\n",
    "- height = 1/(b-a) = 1/8 \n",
    "- __P ( X $\\ge$ 17.8 ) = 1/40 = 0.025__\n",
    "\n",
    "\n",
    "#### Finally, adding both probabilities:\n",
    "#### P ( ( x $\\le$ 10.5 ) OR ( x $\\ge$ 17.8) ) = 0.0625 + 0.025 = 0.0875\n",
    "\n",
    "----\n",
    "### P ( ( x $\\le$ 10.5 ) OR ( x $\\ge$ 17.8) ) = 0.0875\n",
    "\n",
    "----"
   ]
  },
  {
   "cell_type": "markdown",
   "metadata": {},
   "source": [
    "# Part 2\n",
    "\n",
    "### If commuting times are normally distributed with mean 30 minutes, and standard deviation 16 minutes, find the probability that a commute is shorter than 35 minutes. Use the table attached."
   ]
  },
  {
   "cell_type": "markdown",
   "metadata": {},
   "source": [
    "#### Given:\n",
    "- normal distribution\n",
    "- mean (mu) = 30 min\n",
    "- standard deviation (sigma) = 16min\n",
    "- Find P (x $\\le$ 35 min)\n",
    "\n",
    "\n",
    "#### Step 1: Compute z-score\n",
    "- __z = ( x - mu) / sigma__\n",
    "- z = (35 - 30) / 16 = 5/16 = 0.3125\n",
    "- __z = 0.3125__\n",
    "\n",
    "\n",
    "#### Step 2: Use table to find the corresponding probability value if __greater than 35 mins__\n",
    "- Get value for z = 0.31 (round)\n",
    "- table value @ z=0.31  ----> 0.3783\n",
    "\n",
    "#### Since we are interested for the probability below 35 minutes, we will subtract itto the probability of the curve = 1\n",
    "- P (x $\\le$ 35)  = 1 - 0.3783 = 0.6217\n",
    "\n",
    "\n",
    "----\n",
    "### P (x $\\le$ 35 min) = 0.6217     or   62.17%\n",
    "----\n"
   ]
  },
  {
   "cell_type": "markdown",
   "metadata": {},
   "source": [
    "# Part 3\n",
    "\n",
    "### Using the same commuting scenario, find the probability that a commute time is between 40 and 50 minutes. You may wish to sketch this example on a piece of paper before you start calculating!"
   ]
  },
  {
   "cell_type": "markdown",
   "metadata": {},
   "source": [
    "#### Here, we do the same as Part 2. Only that we have to compute for the z-score for each times - 40 and 50.\n",
    "\n",
    "#### Step 1: Compute z-score (40  and 50)\n",
    "- __z = ( x - mu) / sigma__\n",
    "\n",
    "- z = (40 - 30) / 16 = 0.625\n",
    "- __z(40) = 0.625__\n",
    "\n",
    "- z = (50 - 30) / 16 = 1.25\n",
    "- __z(50) = 1.25__\n",
    "\n",
    "\n",
    "#### Step 2: Use table to find the corresponding probability value if __greater than 40 mins__ and __greater than 50 mins__\n",
    "- Get value for z(40) = 0.63 (round)\n",
    "- table value @ z(40)=0.63  ----> 0.2643\n",
    "- P( x $\\ge$ 40 ) = 0.2643\n",
    "\n",
    "- Get value for z(50) = 1.25\n",
    "- table value @ z(50)=1.25  ----> 0.1056\n",
    "- P( x $\\ge$ 50 ) = 0.1056\n",
    "\n",
    "\n",
    "#### If we graph these on the normal distribution, we would be interested on the area in between z(40) and z(50). To get the probability between 40 and 50 minutes, we would have to subtract them.\n",
    "- P (40 $\\le$ X $\\le$ 50)  =  P( x $\\ge$ 40 ) - P ( x $\\ge$ 50) \n",
    "- P (40 $\\le$ X $\\le$ 50)  =  0.2643 - 0.1056\n",
    "\n",
    "\n",
    "----\n",
    "### P (40 $\\le$ X $\\le$ 50)  = 0.1587\n",
    "----\n"
   ]
  },
  {
   "cell_type": "markdown",
   "metadata": {},
   "source": [
    "# Part 4\n",
    "\n",
    "### We have time series of yearly precipitation sums for two locations, which are in close proximity. The average yearly precipitation at location 1 is 1100mm (measured over 105 years), the average yearly precipitation at location 2 is 1050mm (measured over 150 years). The data has a variance of σ1² = 125mm at location 1 (sample 1) and σ2² = 100mm at location 2 (sample 2). Samples are normally distributed. Variances of samples are assumed to be homogeneous thus the ordinary procedure (see slides) can be used to calculate t-test statistics.\n",
    "- a) In Excel use function =NORM.S.DIST(t,TRUE) to calculate empirical p-values (Note: Excel calculates one-sided p per default!). To evaluate a two-sided hypothesis, multiply by two.\n",
    "- b) Specify a significance level. Does the test produce significant results? Interpret the result in your own words."
   ]
  },
  {
   "cell_type": "code",
   "execution_count": null,
   "metadata": {},
   "outputs": [],
   "source": []
  },
  {
   "attachments": {
    "a3_fig1.PNG": {
     "image/png": "[encoded data removed]"
    }
   },
   "cell_type": "markdown",
   "metadata": {},
   "source": [
    "# Part 5\n",
    "\n",
    "### We wish to know whether the pattern observed in the figure below is consistent with the null hypothesis that the points were placed at random. Use the Quadrat Analysis Method to find out.\n",
    "### There are six cells with three points, 20 cells with two points, 42 cells with one point, and 32 cells with no point.\n",
    "\n",
    "\n",
    "![a3_fig1.PNG](attachment:a3_fig1.PNG)"
   ]
  },
  {
   "cell_type": "markdown",
   "metadata": {},
   "source": [
    "#### Making a matrix representing the points for Quadrat Analysis:"
   ]
  },
  {
   "cell_type": "code",
   "execution_count": 2,
   "metadata": {},
   "outputs": [
    {
     "name": "stdout",
     "output_type": "stream",
     "text": [
      "      [,1] [,2] [,3] [,4] [,5] [,6] [,7] [,8] [,9] [,10]\n",
      " [1,]    2    1    1    0    0    1    0    3    0     2\n",
      " [2,]    0    3    2    2    0    0    2    2    1     0\n",
      " [3,]    1    0    0    1    1    2    2    1    0     1\n",
      " [4,]    1    2    0    3    1    0    0    0    1     2\n",
      " [5,]    0    2    1    0    1    1    1    1    0     0\n",
      " [6,]    1    1    1    1    1    3    1    2    1     1\n",
      " [7,]    1    0    2    1    3    0    1    2    0     1\n",
      " [8,]    0    2    1    3    1    1    2    2    1     1\n",
      " [9,]    0    1    1    0    1    0    1    0    1     0\n",
      "[10,]    1    0    2    0    2    1    0    2    0     1\n"
     ]
    }
   ],
   "source": [
    "pt_count2 <- matrix(c(2,0,1,1,0,1,1,0,0,1,\n",
    "                   1,3,0,2,2,1,0,2,1,0,\n",
    "                   1,2,0,0,1,1,2,1,1,2,\n",
    "                   0,2,1,3,0,1,1,3,0,0,\n",
    "                   0,0,1,1,1,1,3,1,1,2,\n",
    "                   1,0,2,0,1,3,0,1,0,1,\n",
    "                   0,2,2,0,1,1,1,2,1,0,\n",
    "                   3,2,1,0,1,2,2,2,0,2,\n",
    "                   0,1,0,1,0,1,0,1,1,0,\n",
    "                   2,0,1,2,0,1,1,1,0,1), c(10,10))\n",
    "\n",
    "print(pt_count2)\n"
   ]
  },
  {
   "cell_type": "markdown",
   "metadata": {},
   "source": [
    "#### Calculating its mean:"
   ]
  },
  {
   "cell_type": "code",
   "execution_count": 3,
   "metadata": {},
   "outputs": [
    {
     "name": "stdout",
     "output_type": "stream",
     "text": [
      "[1] 1\n"
     ]
    }
   ],
   "source": [
    "pt_count2_mean <- mean(pt_count2)\n",
    "\n",
    "print(pt_count2_mean)"
   ]
  },
  {
   "cell_type": "markdown",
   "metadata": {},
   "source": [
    "#### Getting the variance"
   ]
  },
  {
   "cell_type": "code",
   "execution_count": 4,
   "metadata": {},
   "outputs": [
    {
     "name": "stdout",
     "output_type": "stream",
     "text": [
      "[1] 0.7676768\n"
     ]
    }
   ],
   "source": [
    "pt_count2_var <- var(c(pt_count2))\n",
    "\n",
    "print(pt_count2_var)"
   ]
  },
  {
   "cell_type": "markdown",
   "metadata": {},
   "source": [
    "#### Calculating the chi-square test statistic"
   ]
  },
  {
   "cell_type": "code",
   "execution_count": 5,
   "metadata": {},
   "outputs": [
    {
     "name": "stdout",
     "output_type": "stream",
     "text": [
      "[1] 76\n"
     ]
    }
   ],
   "source": [
    "chi2 <- ((100-1)*pt_count2_var) / pt_count2_mean\n",
    "\n",
    "print(chi2)"
   ]
  },
  {
   "cell_type": "markdown",
   "metadata": {},
   "source": [
    "#### Getting the standardized score, z"
   ]
  },
  {
   "cell_type": "code",
   "execution_count": 7,
   "metadata": {},
   "outputs": [
    {
     "name": "stdout",
     "output_type": "stream",
     "text": [
      "[1] -1.634539\n"
     ]
    }
   ],
   "source": [
    "z2 <- (chi2 - (100-1)) / (sqrt(2 * (100-1)))\n",
    "\n",
    "print(z2)"
   ]
  },
  {
   "cell_type": "markdown",
   "metadata": {},
   "source": [
    "#### Calculating the two-sided p ( times 2)"
   ]
  },
  {
   "cell_type": "code",
   "execution_count": 8,
   "metadata": {},
   "outputs": [
    {
     "data": {
      "text/html": [
       "0.102145760820188"
      ],
      "text/latex": [
       "0.102145760820188"
      ],
      "text/markdown": [
       "0.102145760820188"
      ],
      "text/plain": [
       "[1] 0.1021458"
      ]
     },
     "metadata": {},
     "output_type": "display_data"
    },
    {
     "name": "stdout",
     "output_type": "stream",
     "text": [
      "function (q, mean = 0, sd = 1, lower.tail = TRUE, log.p = FALSE) \n",
      ".Call(C_pnorm, q, mean, sd, lower.tail, log.p)\n",
      "<bytecode: 0x0000000029355248>\n",
      "<environment: namespace:stats>\n"
     ]
    }
   ],
   "source": [
    "pnorm(z2, mean=0, sd=1) * 2\n",
    "\n",
    "print(pnorm)"
   ]
  },
  {
   "cell_type": "markdown",
   "metadata": {},
   "source": []
  },
  {
   "cell_type": "code",
   "execution_count": null,
   "metadata": {},
   "outputs": [],
   "source": []
  }
 ],
 "metadata": {
  "kernelspec": {
   "display_name": "R",
   "language": "R",
   "name": "ir"
  },
  "language_info": {
   "codemirror_mode": "r",
   "file_extension": ".r",
   "mimetype": "text/x-r-source",
   "name": "R",
   "pygments_lexer": "r",
   "version": "3.6.1"
  }
 },
 "nbformat": 4,
 "nbformat_minor": 4
}
